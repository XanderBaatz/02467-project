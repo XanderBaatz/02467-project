{
 "cells": [
  {
   "cell_type": "code",
   "execution_count": 3,
   "id": "559ec2fc",
   "metadata": {},
   "outputs": [
    {
     "name": "stdout",
     "output_type": "stream",
     "text": [
      "Loading dataset/articles_entertainment_step_1.parquet\n",
      "Loading dataset/articles_entertainment_step_2.parquet\n",
      "Loading dataset/articles_entertainment_step_3.parquet\n",
      "Loading dataset/articles_entertainment_step_4.parquet\n",
      "Loading dataset/articles_entertainment_step_5.parquet\n",
      "Loading dataset/articles_entertainment_step_6.parquet\n",
      "Loading dataset/articles_entertainment_step_7.parquet\n",
      "Loading dataset/articles_entertainment_step_8.parquet\n",
      "Loading dataset/articles_entertainment_step_9.parquet\n",
      "Loading dataset/articles_entertainment_step_10.parquet\n",
      "Loading dataset/articles_entertainment_step_11.parquet\n",
      "Loading dataset/articles_entertainment_step_12.parquet\n",
      "Loading dataset/articles_entertainment_step_13.parquet\n",
      "Loading dataset/articles_entertainment_step_14.parquet\n",
      "Loading dataset/articles_entertainment_step_15.parquet\n",
      "Loading dataset/articles_entertainment_step_16.parquet\n",
      "Loading dataset/articles_entertainment_step_17.parquet\n",
      "Loading dataset/articles_entertainment_step_18.parquet\n",
      "Loading dataset/articles_entertainment_step_19.parquet\n",
      "Loading dataset/articles_entertainment_step_20.parquet\n",
      "Loading dataset/articles_entertainment_step_21.parquet\n",
      "Loading dataset/articles_entertainment_step_22.parquet\n",
      "Loading dataset/articles_entertainment_step_23.parquet\n",
      "Loading dataset/articles_entertainment_step_24.parquet\n",
      "Loading dataset/articles_entertainment_step_25.parquet\n",
      "Loading dataset/articles_entertainment_step_26.parquet\n",
      "Loading dataset/articles_entertainment_step_27.parquet\n",
      "Loading dataset/articles_entertainment_step_28.parquet\n",
      "Loading dataset/articles_entertainment_step_29.parquet\n",
      "Loading dataset/articles_entertainment_step_30.parquet\n",
      "Loading dataset/articles_entertainment_step_31.parquet\n",
      "Combined DataFrame saved to dataset/articles_entertainment_nlp.parquet\n"
     ]
    }
   ],
   "source": [
    "import pandas as pd\n",
    "import glob\n",
    "import os\n",
    "\n",
    "# Path to the output directory\n",
    "output_dir = \"dataset\"\n",
    "\n",
    "# Find all step parquet files and sort them by chunk number\n",
    "chunk_files = sorted(\n",
    "    glob.glob(os.path.join(output_dir, \"articles_entertainment_step_*.parquet\")),\n",
    "    key=lambda x: int(x.split(\"_step_\")[-1].split(\".\")[0])\n",
    ")\n",
    "\n",
    "# Load and concatenate all the chunks\n",
    "dfs = []\n",
    "for f in chunk_files:\n",
    "    print(f\"Loading {f}\")\n",
    "    df_chunk = pd.read_parquet(f)\n",
    "    dfs.append(df_chunk)\n",
    "\n",
    "# Combine into one DataFrame\n",
    "df_combined = pd.concat(dfs, ignore_index=True)\n",
    "\n",
    "# Save the full dataset\n",
    "combined_path = os.path.join(output_dir, \"articles_entertainment_nlp.parquet\")\n",
    "df_combined.to_parquet(combined_path)\n",
    "print(f\"Combined DataFrame saved to {combined_path}\")\n"
   ]
  }
 ],
 "metadata": {
  "kernelspec": {
   "display_name": "py_3.10",
   "language": "python",
   "name": "python3"
  },
  "language_info": {
   "codemirror_mode": {
    "name": "ipython",
    "version": 3
   },
   "file_extension": ".py",
   "mimetype": "text/x-python",
   "name": "python",
   "nbconvert_exporter": "python",
   "pygments_lexer": "ipython3",
   "version": "3.10.16"
  }
 },
 "nbformat": 4,
 "nbformat_minor": 5
}
