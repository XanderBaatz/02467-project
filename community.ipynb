{
 "cells": [
  {
   "cell_type": "code",
   "execution_count": 70,
   "id": "55b6a0a0",
   "metadata": {},
   "outputs": [],
   "source": [
    "import pandas as pd\n",
    "import json\n",
    "import networkx as nx\n",
    "from itertools import combinations\n",
    "import netwulf\n",
    "import random\n",
    "import numpy as np\n",
    "import seaborn as sns\n",
    "from scipy.stats import norm\n",
    "\n",
    "# Config\n",
    "SEED = 42\n",
    "sns.set_theme()"
   ]
  },
  {
   "cell_type": "markdown",
   "id": "1e23d3a7",
   "metadata": {},
   "source": [
    "## Dataset"
   ]
  },
  {
   "cell_type": "code",
   "execution_count": 32,
   "id": "c40d612b",
   "metadata": {},
   "outputs": [],
   "source": [
    "# Load it back\n",
    "names_df = pd.read_parquet(\"dataset-test/filtered_names_df_big.parquet\")\n",
    "\n",
    "# Deserialize JSON strings back to Python objects\n",
    "names_df[\"coref_clusters\"] = names_df[\"coref_clusters\"].apply(json.loads)\n",
    "names_df[\"person_descriptions\"] = names_df[\"person_descriptions\"].apply(json.loads)"
   ]
  },
  {
   "cell_type": "code",
   "execution_count": 33,
   "id": "920c8e60",
   "metadata": {},
   "outputs": [
    {
     "data": {
      "text/html": [
       "<div>\n",
       "<style scoped>\n",
       "    .dataframe tbody tr th:only-of-type {\n",
       "        vertical-align: middle;\n",
       "    }\n",
       "\n",
       "    .dataframe tbody tr th {\n",
       "        vertical-align: top;\n",
       "    }\n",
       "\n",
       "    .dataframe thead th {\n",
       "        text-align: right;\n",
       "    }\n",
       "</style>\n",
       "<table border=\"1\" class=\"dataframe\">\n",
       "  <thead>\n",
       "    <tr style=\"text-align: right;\">\n",
       "      <th></th>\n",
       "      <th>canonical_name</th>\n",
       "      <th>aliases</th>\n",
       "      <th>article_ids</th>\n",
       "      <th>person_descriptions</th>\n",
       "      <th>coref_clusters</th>\n",
       "      <th>num_articles</th>\n",
       "      <th>gender</th>\n",
       "    </tr>\n",
       "  </thead>\n",
       "  <tbody>\n",
       "    <tr>\n",
       "      <th>0</th>\n",
       "      <td>Dronning Margrethe</td>\n",
       "      <td>[Dronning, Dronning Magrethe, Dronning Margret...</td>\n",
       "      <td>[3038521, 3056484, 3077475, 3079947, 3084765, ...</td>\n",
       "      <td>{'3193653': ['farmor', 'dronning'], '3196007':...</td>\n",
       "      <td>{'3056484': {'coref_clusters_5': ['Dronning Ma...</td>\n",
       "      <td>408</td>\n",
       "      <td>female</td>\n",
       "    </tr>\n",
       "    <tr>\n",
       "      <th>1</th>\n",
       "      <td>Joachim</td>\n",
       "      <td>[Joachim, Joacim]</td>\n",
       "      <td>[3061656, 3082698, 3083145, 3083699, 3084765, ...</td>\n",
       "      <td>{'3061656': ['prins', 'prinsesse', '\n",
       "'], '3082...</td>\n",
       "      <td>{'3061656': {'coref_clusters_1': ['Hun', 'Hun'...</td>\n",
       "      <td>379</td>\n",
       "      <td>male</td>\n",
       "    </tr>\n",
       "    <tr>\n",
       "      <th>2</th>\n",
       "      <td>Henrik</td>\n",
       "      <td>[Henri, Henrik]</td>\n",
       "      <td>[3038205, 3038521, 3056484, 3079947, 3087749, ...</td>\n",
       "      <td>{'3038205': ['indflytter', 'år', 'mand'], '303...</td>\n",
       "      <td>{'3038205': {'coref_clusters_5': ['Henrik på 3...</td>\n",
       "      <td>330</td>\n",
       "      <td>male</td>\n",
       "    </tr>\n",
       "    <tr>\n",
       "      <th>3</th>\n",
       "      <td>Kronprins Frederik</td>\n",
       "      <td>[Frede, Frederik, Frederik Og, Kronprins, Kron...</td>\n",
       "      <td>[3041066, 3079947, 3083793, 3085326, 3187038, ...</td>\n",
       "      <td>{'3191251': ['ynder', 'kæreste', 'ynder', 'kær...</td>\n",
       "      <td>{'3085326': {'coref_clusters_9': ['kronprins F...</td>\n",
       "      <td>271</td>\n",
       "      <td>male</td>\n",
       "    </tr>\n",
       "    <tr>\n",
       "      <th>4</th>\n",
       "      <td>Casper Christensen</td>\n",
       "      <td>[Cajsa Christensen, Caper Christensen, Casper,...</td>\n",
       "      <td>[3103407, 3198301, 3227493, 4003217, 4006373, ...</td>\n",
       "      <td>{'3103407': ['trio', 'tæskehold'], '3198301': ...</td>\n",
       "      <td>{'3198301': {'coref_clusters_1': ['komikeren F...</td>\n",
       "      <td>258</td>\n",
       "      <td>male</td>\n",
       "    </tr>\n",
       "    <tr>\n",
       "      <th>...</th>\n",
       "      <td>...</td>\n",
       "      <td>...</td>\n",
       "      <td>...</td>\n",
       "      <td>...</td>\n",
       "      <td>...</td>\n",
       "      <td>...</td>\n",
       "      <td>...</td>\n",
       "    </tr>\n",
       "    <tr>\n",
       "      <th>4157</th>\n",
       "      <td>Zlatan</td>\n",
       "      <td>[Zlatan]</td>\n",
       "      <td>[4818626, 5302870, 6333307, 6704212, 9727831]</td>\n",
       "      <td>{'6704212': ['histori']}</td>\n",
       "      <td>{}</td>\n",
       "      <td>5</td>\n",
       "      <td>male</td>\n",
       "    </tr>\n",
       "    <tr>\n",
       "      <th>4158</th>\n",
       "      <td>Diva-Irina</td>\n",
       "      <td>[Diva-Irina, Irina]</td>\n",
       "      <td>[4503627, 4706555, 4729665, 4730109, 4730112]</td>\n",
       "      <td>{'4706555': ['\n",
       "'], '4730109': ['\n",
       "'], '4730112'...</td>\n",
       "      <td>{'4503627': {'coref_clusters_1': ['Du', 'hende...</td>\n",
       "      <td>5</td>\n",
       "      <td>female</td>\n",
       "    </tr>\n",
       "    <tr>\n",
       "      <th>4159</th>\n",
       "      <td>Zara Larsson</td>\n",
       "      <td>[Larsson, Zara Larsson]</td>\n",
       "      <td>[6486148, 8099774, 8504170, 8517871, 9562692]</td>\n",
       "      <td>{'6486148': ['dame', 'popstjern', '\n",
       "', 'løber'...</td>\n",
       "      <td>{'6486148': {'coref_clusters_1': ['popstjernen...</td>\n",
       "      <td>5</td>\n",
       "      <td>female</td>\n",
       "    </tr>\n",
       "    <tr>\n",
       "      <th>4160</th>\n",
       "      <td>Zaid</td>\n",
       "      <td>[Zaid]</td>\n",
       "      <td>[6252475, 6493406, 6494837, 9716223, 9717129]</td>\n",
       "      <td>{'6252475': ['hævne', 'hjertekirurg', 'hovedro...</td>\n",
       "      <td>{'6252475': {'coref_clusters_1': ['Dar Salim',...</td>\n",
       "      <td>5</td>\n",
       "      <td>male</td>\n",
       "    </tr>\n",
       "    <tr>\n",
       "      <th>4161</th>\n",
       "      <td>Charlotte Sparre</td>\n",
       "      <td>[Charlotte Sparre, Sparre]</td>\n",
       "      <td>[3093909, 4114802, 4214211, 4220347, 4417191]</td>\n",
       "      <td>{'3093909': ['tørklæde-dronning'], '4214211': ...</td>\n",
       "      <td>{'3093909': {'coref_clusters_10': ['veninder -...</td>\n",
       "      <td>5</td>\n",
       "      <td>female</td>\n",
       "    </tr>\n",
       "  </tbody>\n",
       "</table>\n",
       "<p>4162 rows × 7 columns</p>\n",
       "</div>"
      ],
      "text/plain": [
       "          canonical_name                                            aliases  \\\n",
       "0     Dronning Margrethe  [Dronning, Dronning Magrethe, Dronning Margret...   \n",
       "1                Joachim                                  [Joachim, Joacim]   \n",
       "2                 Henrik                                    [Henri, Henrik]   \n",
       "3     Kronprins Frederik  [Frede, Frederik, Frederik Og, Kronprins, Kron...   \n",
       "4     Casper Christensen  [Cajsa Christensen, Caper Christensen, Casper,...   \n",
       "...                  ...                                                ...   \n",
       "4157              Zlatan                                           [Zlatan]   \n",
       "4158          Diva-Irina                                [Diva-Irina, Irina]   \n",
       "4159        Zara Larsson                            [Larsson, Zara Larsson]   \n",
       "4160                Zaid                                             [Zaid]   \n",
       "4161    Charlotte Sparre                         [Charlotte Sparre, Sparre]   \n",
       "\n",
       "                                            article_ids  \\\n",
       "0     [3038521, 3056484, 3077475, 3079947, 3084765, ...   \n",
       "1     [3061656, 3082698, 3083145, 3083699, 3084765, ...   \n",
       "2     [3038205, 3038521, 3056484, 3079947, 3087749, ...   \n",
       "3     [3041066, 3079947, 3083793, 3085326, 3187038, ...   \n",
       "4     [3103407, 3198301, 3227493, 4003217, 4006373, ...   \n",
       "...                                                 ...   \n",
       "4157      [4818626, 5302870, 6333307, 6704212, 9727831]   \n",
       "4158      [4503627, 4706555, 4729665, 4730109, 4730112]   \n",
       "4159      [6486148, 8099774, 8504170, 8517871, 9562692]   \n",
       "4160      [6252475, 6493406, 6494837, 9716223, 9717129]   \n",
       "4161      [3093909, 4114802, 4214211, 4220347, 4417191]   \n",
       "\n",
       "                                    person_descriptions  \\\n",
       "0     {'3193653': ['farmor', 'dronning'], '3196007':...   \n",
       "1     {'3061656': ['prins', 'prinsesse', '\n",
       "'], '3082...   \n",
       "2     {'3038205': ['indflytter', 'år', 'mand'], '303...   \n",
       "3     {'3191251': ['ynder', 'kæreste', 'ynder', 'kær...   \n",
       "4     {'3103407': ['trio', 'tæskehold'], '3198301': ...   \n",
       "...                                                 ...   \n",
       "4157                           {'6704212': ['histori']}   \n",
       "4158  {'4706555': ['\n",
       "'], '4730109': ['\n",
       "'], '4730112'...   \n",
       "4159  {'6486148': ['dame', 'popstjern', '\n",
       "', 'løber'...   \n",
       "4160  {'6252475': ['hævne', 'hjertekirurg', 'hovedro...   \n",
       "4161  {'3093909': ['tørklæde-dronning'], '4214211': ...   \n",
       "\n",
       "                                         coref_clusters  num_articles  gender  \n",
       "0     {'3056484': {'coref_clusters_5': ['Dronning Ma...           408  female  \n",
       "1     {'3061656': {'coref_clusters_1': ['Hun', 'Hun'...           379    male  \n",
       "2     {'3038205': {'coref_clusters_5': ['Henrik på 3...           330    male  \n",
       "3     {'3085326': {'coref_clusters_9': ['kronprins F...           271    male  \n",
       "4     {'3198301': {'coref_clusters_1': ['komikeren F...           258    male  \n",
       "...                                                 ...           ...     ...  \n",
       "4157                                                 {}             5    male  \n",
       "4158  {'4503627': {'coref_clusters_1': ['Du', 'hende...             5  female  \n",
       "4159  {'6486148': {'coref_clusters_1': ['popstjernen...             5  female  \n",
       "4160  {'6252475': {'coref_clusters_1': ['Dar Salim',...             5    male  \n",
       "4161  {'3093909': {'coref_clusters_10': ['veninder -...             5  female  \n",
       "\n",
       "[4162 rows x 7 columns]"
      ]
     },
     "execution_count": 33,
     "metadata": {},
     "output_type": "execute_result"
    }
   ],
   "source": [
    "names_df"
   ]
  },
  {
   "cell_type": "markdown",
   "id": "14407154",
   "metadata": {},
   "source": [
    "## Network Analysis"
   ]
  },
  {
   "cell_type": "markdown",
   "id": "a8bd088f",
   "metadata": {},
   "source": [
    "### Create and filter co-mention network"
   ]
  },
  {
   "cell_type": "markdown",
   "id": "907644fb",
   "metadata": {},
   "source": [
    "Create the co-mention network:"
   ]
  },
  {
   "cell_type": "code",
   "execution_count": 34,
   "id": "c1183db1",
   "metadata": {},
   "outputs": [],
   "source": [
    "# Create graph\n",
    "G = nx.Graph()\n",
    "\n",
    "# Add nodes and node attributes from dataframe\n",
    "for _, row in names_df.iterrows():\n",
    "    G.add_node(\n",
    "        row[\"canonical_name\"],\n",
    "        aliases=row[\"aliases\"],\n",
    "        article_ids=row[\"article_ids\"],\n",
    "        person_descriptions=row[\"person_descriptions\"],\n",
    "        coref_clusters=row[\"coref_clusters\"],\n",
    "        gender=row[\"gender\"]\n",
    "    )\n",
    "\n",
    "# Add edges between between persons if co-mentioned\n",
    "for (name1, data1), (name2, data2) in combinations(G.nodes(data=True), 2):\n",
    "    shared_articles = set(data1['article_ids']) & set(data2['article_ids'])\n",
    "    if shared_articles:\n",
    "        G.add_edge(name1, name2, weight=len(shared_articles))\n",
    "        G.add_edge(name2, name1, weight=len(shared_articles))  # Make edges bidirectional for DiGraph"
   ]
  },
  {
   "cell_type": "markdown",
   "id": "784c0af8",
   "metadata": {},
   "source": [
    "Remove weak links (edges with weight ≤2):"
   ]
  },
  {
   "cell_type": "code",
   "execution_count": 35,
   "id": "e13ea11f",
   "metadata": {},
   "outputs": [],
   "source": [
    "weight_threshold = 2\n",
    "\n",
    "# Remove edges with weight <= threshold\n",
    "edges_to_remove = [(u, v) for u, v, d in G.edges(data=True) if d[\"weight\"] <= weight_threshold]\n",
    "G.remove_edges_from(edges_to_remove)"
   ]
  },
  {
   "cell_type": "markdown",
   "id": "b31555ff",
   "metadata": {},
   "source": [
    "Remove resulting isolates (nodes with no edges):"
   ]
  },
  {
   "cell_type": "code",
   "execution_count": 36,
   "id": "aff6635f",
   "metadata": {},
   "outputs": [],
   "source": [
    "isolates = list(nx.isolates(G))\n",
    "G.remove_nodes_from(isolates)"
   ]
  },
  {
   "cell_type": "markdown",
   "id": "2ae23df7",
   "metadata": {},
   "source": [
    "### Community detection"
   ]
  },
  {
   "cell_type": "markdown",
   "id": "f5d7c21c",
   "metadata": {},
   "source": [
    "Use Louvain algorithm for community detection. Add partition as node attribtue `group`. This makes it so that `netwulf` can automatically color code nodes based on the community selected for the node by Louvain."
   ]
  },
  {
   "cell_type": "code",
   "execution_count": 37,
   "id": "2b27ee43",
   "metadata": {},
   "outputs": [],
   "source": [
    "from community import community_louvain\n",
    "\n",
    "partition = community_louvain.best_partition(G, random_state=SEED)\n",
    "\n",
    "# Add 'group' attribute based on community\n",
    "nx.set_node_attributes(G, partition, \"group\")"
   ]
  },
  {
   "cell_type": "code",
   "execution_count": 21,
   "id": "6047ec9a",
   "metadata": {},
   "outputs": [
    {
     "data": {
      "text/plain": [
       "(None, None)"
      ]
     },
     "execution_count": 21,
     "metadata": {},
     "output_type": "execute_result"
    }
   ],
   "source": [
    "config = {\n",
    "    # Input/output\n",
    "    'zoom': 1,\n",
    "    # Physics\n",
    "    'node_charge': -5,\n",
    "    'node_gravity': 0.1,\n",
    "    'link_distance': 15,\n",
    "    'link_distance_variation': 0,\n",
    "    'node_collision': True,\n",
    "    'wiggle_nodes': False,\n",
    "    'freeze_nodes': False,\n",
    "    # Nodes\n",
    "    'node_fill_color': '#79aaa0',\n",
    "    'node_stroke_color': '#555555',\n",
    "    'node_label_color': '#000000',\n",
    "    'display_node_labels': False,\n",
    "    'scale_node_size_by_strength': True,\n",
    "    'node_size': 5,\n",
    "    'node_stroke_width': 0,\n",
    "    'node_size_variation': 0.25,\n",
    "    # Links\n",
    "    'link_color': '#7c7c7c',\n",
    "    'link_width': 2,\n",
    "    'link_alpha': 0.5,\n",
    "    'link_width_variation': 0.5,\n",
    "    # Thresholding\n",
    "    'display_singleton_nodes': False,\n",
    "    'min_link_weight_percentile': 0.02,\n",
    "    'max_link_weight_percentile': 1\n",
    "}\n",
    "\n",
    "netwulf.visualize(G, port=random.randint(1, 100), config=config)"
   ]
  },
  {
   "cell_type": "markdown",
   "id": "b62e50b6",
   "metadata": {},
   "source": [
    "### Power law"
   ]
  },
  {
   "cell_type": "markdown",
   "id": "6bb61fe2",
   "metadata": {},
   "source": [
    "Check if the graph follows the power-law distribution:"
   ]
  },
  {
   "cell_type": "code",
   "execution_count": 38,
   "id": "00991e91",
   "metadata": {},
   "outputs": [
    {
     "name": "stdout",
     "output_type": "stream",
     "text": [
      "Alpha (power-law exponent): 3.2071\n",
      "\n",
      "Log-likelihood ratio (vs exponential): R = 22.3912, p = 0.0022\n",
      "✅ Power-law is a significantly better fit than exponential.\n"
     ]
    },
    {
     "data": {
      "image/png": "[encoded data removed]",
      "text/plain": [
       "<Figure size 640x480 with 1 Axes>"
      ]
     },
     "metadata": {},
     "output_type": "display_data"
    }
   ],
   "source": [
    "import powerlaw\n",
    "import matplotlib.pyplot as plt  # Correct import statement\n",
    "# Step 1: Get degrees (exclude zero degrees just in case)\n",
    "degrees = [deg for _, deg in G.degree() if deg > 0]\n",
    "\n",
    "# Step 2: Fit power-law model\n",
    "fit = powerlaw.Fit(degrees, verbose=False)\n",
    "\n",
    "# Step 3: Print alpha (power-law exponent) and x_min\n",
    "print(f\"Alpha (power-law exponent): {fit.power_law.alpha:.4f}\")\n",
    "\n",
    "# Step 4: Compare with other distributions\n",
    "R, p = fit.distribution_compare('power_law', 'exponential')\n",
    "print(f\"\\nLog-likelihood ratio (vs exponential): R = {R:.4f}, p = {p:.4f}\")\n",
    "if R > 0 and p < 0.05:\n",
    "    print(\"✅ Power-law is a significantly better fit than exponential.\")\n",
    "else:\n",
    "    print(\"❌ Power-law is NOT a significantly better fit than exponential.\")\n",
    "\n",
    "# Step 5: Plot\n",
    "fig = fit.plot_ccdf(color='blue', label='Empirical data')\n",
    "fit.power_law.plot_ccdf(ax=fig, color='red', linestyle='--', label='Power law fit')\n",
    "plt.legend()\n",
    "plt.title(\"Degree Distribution CCDF\")\n",
    "plt.xlabel(\"Degree\")\n",
    "plt.ylabel(\"P(X ≥ x)\")\n",
    "plt.grid(True)\n",
    "plt.show()\n"
   ]
  },
  {
   "cell_type": "markdown",
   "id": "f6083784",
   "metadata": {},
   "source": [
    "Since $\\alpha \\approx 3.2$, the degree distribution decays fairly steeply. The network is scale-free, but the tail is moderate. This implies that hubs exist, but no single celebrity dominates the network. This also suggests a hierarchical structure where a small number of celebrities have many connections, yet centrality is shared across several figures.\n",
    "\n",
    "What this means is that Ekstrabladet doesn't center entirely around one individual. Instead, multiple overlapping \"celebrity communities\" exist. Mainly, in our case, royal families, reality stars, politicians etc.\n"
   ]
  },
  {
   "cell_type": "markdown",
   "id": "7a6e184e",
   "metadata": {},
   "source": [
    "### Node connections"
   ]
  },
  {
   "cell_type": "markdown",
   "id": "426a9d4a",
   "metadata": {},
   "source": [
    "Check a random node (between 1 and 100) and its connections:"
   ]
  },
  {
   "cell_type": "code",
   "execution_count": 43,
   "id": "65ec0e01",
   "metadata": {},
   "outputs": [
    {
     "name": "stdout",
     "output_type": "stream",
     "text": [
      "Random node: Stephanie\n",
      "\n",
      "Shares 3 article(s) with: Frederik\n",
      "Shares 6 article(s) with: Christian\n",
      "Shares 3 article(s) with: Gud\n",
      "Shares 22 article(s) with: Linse Kessler\n",
      "Shares 3 article(s) with: Peter\n",
      "Shares 4 article(s) with: Isabella\n",
      "Shares 40 article(s) with: Geggo\n",
      "Shares 19 article(s) with: Linse\n",
      "Shares 7 article(s) with: Mikkel\n",
      "Shares 3 article(s) with: Charles\n",
      "Shares 5 article(s) with: Frederik Fetterlein\n",
      "Shares 6 article(s) with: Emma\n",
      "Shares 4 article(s) with: Gustav\n",
      "Shares 7 article(s) with: Caroline\n",
      "Shares 7 article(s) with: Mikkel Kessler\n",
      "Shares 3 article(s) with: David\n",
      "Shares 4 article(s) with: Simon\n",
      "Shares 3 article(s) with: Christina\n",
      "Shares 13 article(s) with: Cengiz\n",
      "Shares 3 article(s) with: Albert\n",
      "Shares 10 article(s) with: Alba\n",
      "Shares 7 article(s) with: Rachel\n",
      "Shares 6 article(s) with: Mai Manniche\n",
      "Shares 4 article(s) with: Madeleine\n",
      "Shares 4 article(s) with: Lene\n",
      "Shares 4 article(s) with: Mopper\n",
      "Shares 3 article(s) with: Romeo\n",
      "Shares 5 article(s) with: Ann\n",
      "Shares 3 article(s) with: Tristan\n",
      "Shares 3 article(s) with: Grace Kelly\n",
      "Shares 3 article(s) with: Zeus\n",
      "Shares 3 article(s) with: Ann Patricia Christiansen\n",
      "Shares 3 article(s) with: Fyrst Rainier\n"
     ]
    }
   ],
   "source": [
    "# Ensure graph is not empty\n",
    "if len(G.nodes) == 0:\n",
    "    print(\"Graph is empty after filtering.\")\n",
    "else:\n",
    "    # Pick a random node\n",
    "    random_node = list(G.nodes)[random.randint(1, 100)]\n",
    "    print(f\"Random node: {random_node}\\n\")\n",
    "\n",
    "    # Get neighbors and shared article counts\n",
    "    for neighbor in G.neighbors(random_node):\n",
    "        weight = G[random_node][neighbor][\"weight\"]\n",
    "        print(f\"Shares {weight} article(s) with: {neighbor}\")\n"
   ]
  },
  {
   "cell_type": "markdown",
   "id": "32733a4a",
   "metadata": {},
   "source": [
    "### Summary Statistics"
   ]
  },
  {
   "cell_type": "code",
   "execution_count": 56,
   "id": "3b30979d",
   "metadata": {},
   "outputs": [
    {
     "data": {
      "text/html": [
       "<div>\n",
       "<style scoped>\n",
       "    .dataframe tbody tr th:only-of-type {\n",
       "        vertical-align: middle;\n",
       "    }\n",
       "\n",
       "    .dataframe tbody tr th {\n",
       "        vertical-align: top;\n",
       "    }\n",
       "\n",
       "    .dataframe thead th {\n",
       "        text-align: right;\n",
       "    }\n",
       "</style>\n",
       "<table border=\"1\" class=\"dataframe\">\n",
       "  <thead>\n",
       "    <tr style=\"text-align: right;\">\n",
       "      <th></th>\n",
       "      <th>aliases</th>\n",
       "      <th>article_ids</th>\n",
       "      <th>person_descriptions</th>\n",
       "      <th>coref_clusters</th>\n",
       "      <th>gender</th>\n",
       "      <th>group</th>\n",
       "      <th>node</th>\n",
       "      <th>degree</th>\n",
       "    </tr>\n",
       "  </thead>\n",
       "  <tbody>\n",
       "    <tr>\n",
       "      <th>0</th>\n",
       "      <td>[Dronning, Dronning Magrethe, Dronning Margret...</td>\n",
       "      <td>[3038521, 3056484, 3077475, 3079947, 3084765, ...</td>\n",
       "      <td>{'3193653': ['farmor', 'dronning'], '3196007':...</td>\n",
       "      <td>{'3056484': {'coref_clusters_5': ['Dronning Ma...</td>\n",
       "      <td>female</td>\n",
       "      <td>0</td>\n",
       "      <td>Dronning Margrethe</td>\n",
       "      <td>118</td>\n",
       "    </tr>\n",
       "    <tr>\n",
       "      <th>1</th>\n",
       "      <td>[Joachim, Joacim]</td>\n",
       "      <td>[3061656, 3082698, 3083145, 3083699, 3084765, ...</td>\n",
       "      <td>{'3061656': ['prins', 'prinsesse', '\n",
       "'], '3082...</td>\n",
       "      <td>{'3061656': {'coref_clusters_1': ['Hun', 'Hun'...</td>\n",
       "      <td>male</td>\n",
       "      <td>0</td>\n",
       "      <td>Joachim</td>\n",
       "      <td>116</td>\n",
       "    </tr>\n",
       "    <tr>\n",
       "      <th>2</th>\n",
       "      <td>[Henri, Henrik]</td>\n",
       "      <td>[3038205, 3038521, 3056484, 3079947, 3087749, ...</td>\n",
       "      <td>{'3038205': ['indflytter', 'år', 'mand'], '303...</td>\n",
       "      <td>{'3038205': {'coref_clusters_5': ['Henrik på 3...</td>\n",
       "      <td>male</td>\n",
       "      <td>0</td>\n",
       "      <td>Henrik</td>\n",
       "      <td>103</td>\n",
       "    </tr>\n",
       "    <tr>\n",
       "      <th>3</th>\n",
       "      <td>[Frede, Frederik, Frederik Og, Kronprins, Kron...</td>\n",
       "      <td>[3041066, 3079947, 3083793, 3085326, 3187038, ...</td>\n",
       "      <td>{'3191251': ['ynder', 'kæreste', 'ynder', 'kær...</td>\n",
       "      <td>{'3085326': {'coref_clusters_9': ['kronprins F...</td>\n",
       "      <td>male</td>\n",
       "      <td>0</td>\n",
       "      <td>Kronprins Frederik</td>\n",
       "      <td>66</td>\n",
       "    </tr>\n",
       "    <tr>\n",
       "      <th>4</th>\n",
       "      <td>[Cajsa Christensen, Caper Christensen, Casper,...</td>\n",
       "      <td>[3103407, 3198301, 3227493, 4003217, 4006373, ...</td>\n",
       "      <td>{'3103407': ['trio', 'tæskehold'], '3198301': ...</td>\n",
       "      <td>{'3198301': {'coref_clusters_1': ['komikeren F...</td>\n",
       "      <td>male</td>\n",
       "      <td>1</td>\n",
       "      <td>Casper Christensen</td>\n",
       "      <td>75</td>\n",
       "    </tr>\n",
       "  </tbody>\n",
       "</table>\n",
       "</div>"
      ],
      "text/plain": [
       "                                             aliases  \\\n",
       "0  [Dronning, Dronning Magrethe, Dronning Margret...   \n",
       "1                                  [Joachim, Joacim]   \n",
       "2                                    [Henri, Henrik]   \n",
       "3  [Frede, Frederik, Frederik Og, Kronprins, Kron...   \n",
       "4  [Cajsa Christensen, Caper Christensen, Casper,...   \n",
       "\n",
       "                                         article_ids  \\\n",
       "0  [3038521, 3056484, 3077475, 3079947, 3084765, ...   \n",
       "1  [3061656, 3082698, 3083145, 3083699, 3084765, ...   \n",
       "2  [3038205, 3038521, 3056484, 3079947, 3087749, ...   \n",
       "3  [3041066, 3079947, 3083793, 3085326, 3187038, ...   \n",
       "4  [3103407, 3198301, 3227493, 4003217, 4006373, ...   \n",
       "\n",
       "                                 person_descriptions  \\\n",
       "0  {'3193653': ['farmor', 'dronning'], '3196007':...   \n",
       "1  {'3061656': ['prins', 'prinsesse', '\n",
       "'], '3082...   \n",
       "2  {'3038205': ['indflytter', 'år', 'mand'], '303...   \n",
       "3  {'3191251': ['ynder', 'kæreste', 'ynder', 'kær...   \n",
       "4  {'3103407': ['trio', 'tæskehold'], '3198301': ...   \n",
       "\n",
       "                                      coref_clusters  gender  group  \\\n",
       "0  {'3056484': {'coref_clusters_5': ['Dronning Ma...  female      0   \n",
       "1  {'3061656': {'coref_clusters_1': ['Hun', 'Hun'...    male      0   \n",
       "2  {'3038205': {'coref_clusters_5': ['Henrik på 3...    male      0   \n",
       "3  {'3085326': {'coref_clusters_9': ['kronprins F...    male      0   \n",
       "4  {'3198301': {'coref_clusters_1': ['komikeren F...    male      1   \n",
       "\n",
       "                 node  degree  \n",
       "0  Dronning Margrethe     118  \n",
       "1             Joachim     116  \n",
       "2              Henrik     103  \n",
       "3  Kronprins Frederik      66  \n",
       "4  Casper Christensen      75  "
      ]
     },
     "execution_count": 56,
     "metadata": {},
     "output_type": "execute_result"
    }
   ],
   "source": [
    "# Create a list of dictionaries where each dictionary represents a node\n",
    "node_data = []\n",
    "for node, data in G.nodes(data=True):\n",
    "    node_info = data.copy()  # Copy node attributes\n",
    "    node_info[\"node\"] = node  # Add the node name itself\n",
    "    node_info[\"degree\"] = G.degree[node]  # Add degree as an attribute\n",
    "    node_data.append(node_info)\n",
    "\n",
    "# Convert the list of dictionaries to a pandas DataFrame\n",
    "df_graph = pd.DataFrame(node_data)\n",
    "\n",
    "# Show the first few rows to check the structure\n",
    "df_graph.head()"
   ]
  },
  {
   "cell_type": "markdown",
   "id": "b2b30f4d",
   "metadata": {},
   "source": [
    "#### Overall"
   ]
  },
  {
   "cell_type": "code",
   "execution_count": 51,
   "id": "1b4abd58",
   "metadata": {},
   "outputs": [
    {
     "data": {
      "text/plain": [
       "count    3086.000000\n",
       "mean        5.995463\n",
       "std         8.830659\n",
       "min         1.000000\n",
       "25%         2.000000\n",
       "50%         3.000000\n",
       "75%         7.000000\n",
       "max       118.000000\n",
       "Name: degree, dtype: float64"
      ]
     },
     "execution_count": 51,
     "metadata": {},
     "output_type": "execute_result"
    }
   ],
   "source": [
    "df_graph[\"degree\"].describe()"
   ]
  },
  {
   "cell_type": "markdown",
   "id": "f03cfeca",
   "metadata": {},
   "source": [
    "#### Per gender"
   ]
  },
  {
   "cell_type": "code",
   "execution_count": null,
   "id": "25712938",
   "metadata": {},
   "outputs": [
    {
     "name": "stderr",
     "output_type": "stream",
     "text": [
      "/tmp/ipykernel_36828/1510428866.py:6: DeprecationWarning: DataFrameGroupBy.apply operated on the grouping columns. This behavior is deprecated, and in a future version of pandas the grouping columns will be excluded from the operation. Either pass `include_groups=False` to exclude the groupings or explicitly select the grouping columns after groupby to silence this warning.\n",
      "  clustering_stats = df_graph.groupby('gender').apply(lambda group: group['node'].apply(lambda node: nx.clustering(G, node)).mean())\n"
     ]
    },
    {
     "data": {
      "text/html": [
       "<div>\n",
       "<style scoped>\n",
       "    .dataframe tbody tr th:only-of-type {\n",
       "        vertical-align: middle;\n",
       "    }\n",
       "\n",
       "    .dataframe tbody tr th {\n",
       "        vertical-align: top;\n",
       "    }\n",
       "\n",
       "    .dataframe thead th {\n",
       "        text-align: right;\n",
       "    }\n",
       "</style>\n",
       "<table border=\"1\" class=\"dataframe\">\n",
       "  <thead>\n",
       "    <tr style=\"text-align: right;\">\n",
       "      <th></th>\n",
       "      <th>count</th>\n",
       "      <th>mean</th>\n",
       "      <th>std</th>\n",
       "      <th>min</th>\n",
       "      <th>25%</th>\n",
       "      <th>50%</th>\n",
       "      <th>75%</th>\n",
       "      <th>max</th>\n",
       "    </tr>\n",
       "    <tr>\n",
       "      <th>gender</th>\n",
       "      <th></th>\n",
       "      <th></th>\n",
       "      <th></th>\n",
       "      <th></th>\n",
       "      <th></th>\n",
       "      <th></th>\n",
       "      <th></th>\n",
       "      <th></th>\n",
       "    </tr>\n",
       "  </thead>\n",
       "  <tbody>\n",
       "    <tr>\n",
       "      <th>female</th>\n",
       "      <td>1325.0</td>\n",
       "      <td>6.252830</td>\n",
       "      <td>8.943862</td>\n",
       "      <td>1.0</td>\n",
       "      <td>2.0</td>\n",
       "      <td>3.0</td>\n",
       "      <td>7.0</td>\n",
       "      <td>118.0</td>\n",
       "    </tr>\n",
       "    <tr>\n",
       "      <th>male</th>\n",
       "      <td>1719.0</td>\n",
       "      <td>5.830716</td>\n",
       "      <td>8.826544</td>\n",
       "      <td>1.0</td>\n",
       "      <td>2.0</td>\n",
       "      <td>3.0</td>\n",
       "      <td>6.0</td>\n",
       "      <td>116.0</td>\n",
       "    </tr>\n",
       "    <tr>\n",
       "      <th>unknown</th>\n",
       "      <td>42.0</td>\n",
       "      <td>4.619048</td>\n",
       "      <td>3.825157</td>\n",
       "      <td>1.0</td>\n",
       "      <td>2.0</td>\n",
       "      <td>3.0</td>\n",
       "      <td>6.0</td>\n",
       "      <td>13.0</td>\n",
       "    </tr>\n",
       "  </tbody>\n",
       "</table>\n",
       "</div>"
      ],
      "text/plain": [
       "          count      mean       std  min  25%  50%  75%    max\n",
       "gender                                                        \n",
       "female   1325.0  6.252830  8.943862  1.0  2.0  3.0  7.0  118.0\n",
       "male     1719.0  5.830716  8.826544  1.0  2.0  3.0  6.0  116.0\n",
       "unknown    42.0  4.619048  3.825157  1.0  2.0  3.0  6.0   13.0"
      ]
     },
     "execution_count": 54,
     "metadata": {},
     "output_type": "execute_result"
    }
   ],
   "source": [
    "# Summary statistics for degree by gender\n",
    "degree_stats = df_graph.groupby('gender')['degree'].describe()\n",
    "\n",
    "clustering_stats = df_graph.groupby('gender').apply(lambda group: group['node'].apply(lambda node: nx.clustering(G, node)).mean())\n",
    "\n",
    "degree_stats"
   ]
  },
  {
   "cell_type": "code",
   "execution_count": 55,
   "id": "e8f11acd",
   "metadata": {},
   "outputs": [
    {
     "data": {
      "text/plain": [
       "gender\n",
       "female     0.422529\n",
       "male       0.417211\n",
       "unknown    0.669527\n",
       "dtype: float64"
      ]
     },
     "execution_count": 55,
     "metadata": {},
     "output_type": "execute_result"
    }
   ],
   "source": [
    "clustering_stats"
   ]
  },
  {
   "cell_type": "markdown",
   "id": "38f0b237",
   "metadata": {},
   "source": [
    "#### Top celebrities by degree"
   ]
  },
  {
   "cell_type": "markdown",
   "id": "e68f59a9",
   "metadata": {},
   "source": [
    "By gender:"
   ]
  },
  {
   "cell_type": "code",
   "execution_count": 67,
   "id": "f6753f1c",
   "metadata": {},
   "outputs": [
    {
     "data": {
      "text/html": [
       "<div>\n",
       "<style scoped>\n",
       "    .dataframe tbody tr th:only-of-type {\n",
       "        vertical-align: middle;\n",
       "    }\n",
       "\n",
       "    .dataframe tbody tr th {\n",
       "        vertical-align: top;\n",
       "    }\n",
       "\n",
       "    .dataframe thead th {\n",
       "        text-align: right;\n",
       "    }\n",
       "</style>\n",
       "<table border=\"1\" class=\"dataframe\">\n",
       "  <thead>\n",
       "    <tr style=\"text-align: right;\">\n",
       "      <th></th>\n",
       "      <th>node</th>\n",
       "      <th>degree</th>\n",
       "    </tr>\n",
       "  </thead>\n",
       "  <tbody>\n",
       "    <tr>\n",
       "      <th>1</th>\n",
       "      <td>Joachim</td>\n",
       "      <td>116</td>\n",
       "    </tr>\n",
       "    <tr>\n",
       "      <th>2</th>\n",
       "      <td>Henrik</td>\n",
       "      <td>103</td>\n",
       "    </tr>\n",
       "    <tr>\n",
       "      <th>6</th>\n",
       "      <td>Frederik</td>\n",
       "      <td>89</td>\n",
       "    </tr>\n",
       "    <tr>\n",
       "      <th>7</th>\n",
       "      <td>Christian</td>\n",
       "      <td>89</td>\n",
       "    </tr>\n",
       "    <tr>\n",
       "      <th>18</th>\n",
       "      <td>Silas Holst</td>\n",
       "      <td>89</td>\n",
       "    </tr>\n",
       "  </tbody>\n",
       "</table>\n",
       "</div>"
      ],
      "text/plain": [
       "           node  degree\n",
       "1       Joachim     116\n",
       "2        Henrik     103\n",
       "6      Frederik      89\n",
       "7     Christian      89\n",
       "18  Silas Holst      89"
      ]
     },
     "execution_count": 67,
     "metadata": {},
     "output_type": "execute_result"
    }
   ],
   "source": [
    "df_graph[df_graph[\"gender\"] == \"male\"].nlargest(n=5, columns=\"degree\")[[\"node\", \"degree\"]]"
   ]
  },
  {
   "cell_type": "code",
   "execution_count": 68,
   "id": "f2bd7a9e",
   "metadata": {},
   "outputs": [
    {
     "data": {
      "text/html": [
       "<div>\n",
       "<style scoped>\n",
       "    .dataframe tbody tr th:only-of-type {\n",
       "        vertical-align: middle;\n",
       "    }\n",
       "\n",
       "    .dataframe tbody tr th {\n",
       "        vertical-align: top;\n",
       "    }\n",
       "\n",
       "    .dataframe thead th {\n",
       "        text-align: right;\n",
       "    }\n",
       "</style>\n",
       "<table border=\"1\" class=\"dataframe\">\n",
       "  <thead>\n",
       "    <tr style=\"text-align: right;\">\n",
       "      <th></th>\n",
       "      <th>node</th>\n",
       "      <th>degree</th>\n",
       "    </tr>\n",
       "  </thead>\n",
       "  <tbody>\n",
       "    <tr>\n",
       "      <th>0</th>\n",
       "      <td>Dronning Margrethe</td>\n",
       "      <td>118</td>\n",
       "    </tr>\n",
       "    <tr>\n",
       "      <th>5</th>\n",
       "      <td>Mary</td>\n",
       "      <td>79</td>\n",
       "    </tr>\n",
       "    <tr>\n",
       "      <th>8</th>\n",
       "      <td>Alexandra</td>\n",
       "      <td>75</td>\n",
       "    </tr>\n",
       "    <tr>\n",
       "      <th>10</th>\n",
       "      <td>Marie</td>\n",
       "      <td>59</td>\n",
       "    </tr>\n",
       "    <tr>\n",
       "      <th>17</th>\n",
       "      <td>Mascha Vang</td>\n",
       "      <td>58</td>\n",
       "    </tr>\n",
       "  </tbody>\n",
       "</table>\n",
       "</div>"
      ],
      "text/plain": [
       "                  node  degree\n",
       "0   Dronning Margrethe     118\n",
       "5                 Mary      79\n",
       "8            Alexandra      75\n",
       "10               Marie      59\n",
       "17         Mascha Vang      58"
      ]
     },
     "execution_count": 68,
     "metadata": {},
     "output_type": "execute_result"
    }
   ],
   "source": [
    "df_graph[df_graph[\"gender\"] == \"female\"].nlargest(n=5, columns=\"degree\")[[\"node\", \"degree\"]]"
   ]
  },
  {
   "cell_type": "markdown",
   "id": "12add6e6",
   "metadata": {},
   "source": [
    "What we see here is that:\n",
    "- Males have numerical dominance, however the max degree is higher for women due to Magrethe as an outlier.\n",
    "- Both genders share the same median degree. This indicates that male and female are mentioned together equally in articles.\n",
    "- The danish royal house are frequently mentioned. They dominate both the male and female gender."
   ]
  },
  {
   "cell_type": "markdown",
   "id": "4301e6e6",
   "metadata": {},
   "source": [
    "### Network Characteristics"
   ]
  },
  {
   "cell_type": "markdown",
   "id": "e32b88ba",
   "metadata": {},
   "source": [
    "#### Assortativity coefficient"
   ]
  },
  {
   "cell_type": "code",
   "execution_count": 69,
   "id": "e4b51b1f",
   "metadata": {},
   "outputs": [
    {
     "data": {
      "text/plain": [
       "0.08219694403167355"
      ]
     },
     "execution_count": 69,
     "metadata": {},
     "output_type": "execute_result"
    }
   ],
   "source": [
    "nx.degree_assortativity_coefficient(G)"
   ]
  },
  {
   "cell_type": "markdown",
   "id": "1b01d88b",
   "metadata": {},
   "source": [
    "This shows slightly positive degree assortativity: high-degree nodes tend to connect (slightly) more with other high-degree nodes. This is also supported by the richer gets richer effect shown, i.e. the media write about celebrities and celebrities may gain traffic from the exposure."
   ]
  },
  {
   "cell_type": "markdown",
   "id": "62a780ea",
   "metadata": {},
   "source": [
    "#### Random Network"
   ]
  },
  {
   "cell_type": "code",
   "execution_count": 71,
   "id": "d6833f3a",
   "metadata": {},
   "outputs": [
    {
     "name": "stdout",
     "output_type": "stream",
     "text": [
      "Real assortativity: 0.0822\n",
      "Random mean: -0.0264, std: 0.0085\n",
      "Z-score: 12.72\n",
      "P-value: 0.00e+00\n"
     ]
    }
   ],
   "source": [
    "# Your real network\n",
    "r_real = nx.degree_assortativity_coefficient(G)\n",
    "\n",
    "# Parameters\n",
    "n_randomizations = 200\n",
    "nswap = 10 * G.number_of_edges()\n",
    "max_tries = nswap * 100\n",
    "seed = 4\n",
    "\n",
    "# Store assortativity va lues from randomized graphs\n",
    "r_random = []\n",
    "\n",
    "for i in range(n_randomizations):\n",
    "    H_copy = G.copy()\n",
    "    # Perform edge swaps while preserving degree sequence\n",
    "    nx.double_edge_swap(H_copy, nswap=nswap, max_tries=max_tries, seed=seed + i)\n",
    "    r = nx.degree_assortativity_coefficient(H_copy)\n",
    "    r_random.append(r)\n",
    "\n",
    "# Compute mean and std of the null distribution\n",
    "mean_r = np.mean(r_random)\n",
    "std_r = np.std(r_random)\n",
    "\n",
    "# Z-score and (two-tailed) p-value\n",
    "z = (r_real - mean_r) / std_r\n",
    "p_value = 2 * (1 - norm.cdf(abs(z)))  # Two-tailed test\n",
    "\n",
    "# Results\n",
    "print(f\"Real assortativity: {r_real:.4f}\")\n",
    "print(f\"Random mean: {mean_r:.4f}, std: {std_r:.4f}\")\n",
    "print(f\"Z-score: {z:.2f}\")\n",
    "print(f\"P-value: {p_value:.2e}\")"
   ]
  },
  {
   "cell_type": "code",
   "execution_count": 72,
   "id": "b29b1ede",
   "metadata": {},
   "outputs": [
    {
     "data": {
      "image/png": "[encoded data removed]",
      "text/plain": [
       "<Figure size 800x500 with 1 Axes>"
      ]
     },
     "metadata": {},
     "output_type": "display_data"
    }
   ],
   "source": [
    "# Plot\n",
    "plt.figure(figsize=(8, 5))\n",
    "plt.hist(r_random, bins=20, alpha=0.7, color='skyblue', edgecolor='black', label='Null distribution')\n",
    "plt.axvline(r_real, color='red', linestyle='--', linewidth=2, label=f'Real assortativity ({r_real:.4f})')\n",
    "\n",
    "plt.title('Assortativity Null Distribution vs Real Value')\n",
    "plt.xlabel('Assortativity Coefficient')\n",
    "plt.ylabel('Frequency')\n",
    "plt.legend()\n",
    "plt.grid(True)\n",
    "plt.tight_layout()\n",
    "plt.show()"
   ]
  },
  {
   "cell_type": "markdown",
   "id": "c678249f",
   "metadata": {},
   "source": [
    "This indicates that the assortativity coefficient from the randomized networks generated from the real graph stats are indeed far away from the real graph. In other words, the real graph structure wrt. the assortativity coefficient is not randomized and carries a proper non-randomized order.\n",
    "\n",
    "This is also supported by the insanely low p-value."
   ]
  },
  {
   "cell_type": "markdown",
   "id": "53394e06",
   "metadata": {},
   "source": [
    "#### Shortest Paths"
   ]
  },
  {
   "cell_type": "markdown",
   "id": "cc8db580",
   "metadata": {},
   "source": [
    "Construct a subgraph containing all the nodes of the largest component in the graph:"
   ]
  },
  {
   "cell_type": "code",
   "execution_count": 109,
   "id": "25c7b3dd",
   "metadata": {},
   "outputs": [],
   "source": [
    "# Get connected components\n",
    "connected_components = nx.algorithms.connected_components(G)\n",
    "\n",
    "# Find giant component\n",
    "giant_component = max(connected_components, key=len)\n",
    "\n",
    "# Construct subgraph\n",
    "G_sub = nx.Graph.subgraph(G, giant_component)"
   ]
  },
  {
   "cell_type": "markdown",
   "id": "a913de0d",
   "metadata": {},
   "source": [
    "Get induced subgraphs from connected components:"
   ]
  },
  {
   "cell_type": "code",
   "execution_count": 120,
   "id": "7ee2d451",
   "metadata": {},
   "outputs": [],
   "source": [
    "# Induced subgraphs\n",
    "S = [G.subgraph(c).copy() for c in nx.connected_components(G)]\n",
    "\n",
    "# Get number of nodes for each subgraph\n",
    "S_nodes = [len(GS.nodes) for GS in S]"
   ]
  },
  {
   "cell_type": "markdown",
   "id": "5d8209b2",
   "metadata": {},
   "source": [
    "Let's have a look at the giant component and it's contribution to the overall graph/network, also vs. other components:"
   ]
  },
  {
   "cell_type": "code",
   "execution_count": 121,
   "id": "1c8c1fd0",
   "metadata": {},
   "outputs": [
    {
     "data": {
      "text/plain": [
       "0.9144523655217109"
      ]
     },
     "execution_count": 121,
     "metadata": {},
     "output_type": "execute_result"
    }
   ],
   "source": [
    "len(giant_component) / sum(S_nodes)"
   ]
  },
  {
   "cell_type": "markdown",
   "id": "36c1d867",
   "metadata": {},
   "source": [
    "Calculate average shortest path between two nodes in the giant component:"
   ]
  },
  {
   "cell_type": "code",
   "execution_count": 74,
   "id": "884c34ec",
   "metadata": {},
   "outputs": [],
   "source": [
    "avg_shortest_path = nx.average_shortest_path_length(G_sub)"
   ]
  },
  {
   "cell_type": "code",
   "execution_count": 75,
   "id": "782b5ce9",
   "metadata": {},
   "outputs": [
    {
     "data": {
      "text/plain": [
       "4.638309268518912"
      ]
     },
     "execution_count": 75,
     "metadata": {},
     "output_type": "execute_result"
    }
   ],
   "source": [
    "avg_shortest_path"
   ]
  }
 ],
 "metadata": {
  "kernelspec": {
   "display_name": "py_3.10",
   "language": "python",
   "name": "python3"
  },
  "language_info": {
   "codemirror_mode": {
    "name": "ipython",
    "version": 3
   },
   "file_extension": ".py",
   "mimetype": "text/x-python",
   "name": "python",
   "nbconvert_exporter": "python",
   "pygments_lexer": "ipython3",
   "version": "3.10.16"
  }
 },
 "nbformat": 4,
 "nbformat_minor": 5
}
